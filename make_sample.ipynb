{
 "cells": [
  {
   "cell_type": "code",
   "execution_count": 8,
   "metadata": {},
   "outputs": [],
   "source": [
    "import pandas as pd\n",
    "import requests as rq\n",
    "import time\n",
    "from tqdm import tqdm"
   ]
  },
  {
   "cell_type": "code",
   "execution_count": 9,
   "metadata": {},
   "outputs": [],
   "source": [
    "de = pd.read_csv('data/combined_DE_politician_twitter_timelines_2016-01-01_to_2023-02-11_clean.csv')\n",
    "uk = pd.read_csv('data/combined_UK_politician_twitter_timelines_2016-01-01_to_2023-02-11_clean.csv')\n"
   ]
  },
  {
   "cell_type": "code",
   "execution_count": 16,
   "metadata": {},
   "outputs": [],
   "source": [
    "uk['created_at_clean'] = uk['created_at'].str[:-6]\n",
    "uk['date']  = pd.to_datetime(uk['created_at_clean'], format='%Y-%m-%d %H:%M:%S')\n",
    "uk['year'] = uk['date'].dt.year\n",
    "\n",
    "uk = uk[uk['year']!=2010]\n",
    "uk_sample = uk.groupby('year', group_keys=False).apply(lambda x: x.sample(20000))"
   ]
  },
  {
   "cell_type": "code",
   "execution_count": 17,
   "metadata": {},
   "outputs": [],
   "source": [
    "de['created_at_clean'] = de['created_at'].str[:-6]\n",
    "de['date']  = pd.to_datetime(de['created_at_clean'], format='%Y-%m-%d %H:%M:%S')\n",
    "de['year'] = de['date'].dt.year\n",
    "de = de[de['year']!=2010]\n",
    "de.shape[0]/len(pd.unique(de['year']))\n",
    "de_sample = de.groupby('year', group_keys=False).apply(lambda x: x.sample(20000)).reset_index()"
   ]
  },
  {
   "cell_type": "code",
   "execution_count": 19,
   "metadata": {},
   "outputs": [],
   "source": [
    "de_sample.to_csv(\"results/de_sample.csv\")\n",
    "uk_sample.to_csv(\"results/uk_sample.csv\")"
   ]
  }
 ],
 "metadata": {
  "kernelspec": {
   "display_name": "Python 3",
   "language": "python",
   "name": "python3"
  },
  "language_info": {
   "codemirror_mode": {
    "name": "ipython",
    "version": 3
   },
   "file_extension": ".py",
   "mimetype": "text/x-python",
   "name": "python",
   "nbconvert_exporter": "python",
   "pygments_lexer": "ipython3",
   "version": "3.11.5"
  },
  "orig_nbformat": 4
 },
 "nbformat": 4,
 "nbformat_minor": 2
}
